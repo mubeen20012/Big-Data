{
  "nbformat": 4,
  "nbformat_minor": 0,
  "metadata": {
    "colab": {
      "provenance": []
    },
    "kernelspec": {
      "name": "python3",
      "display_name": "Python 3"
    },
    "language_info": {
      "name": "python"
    }
  },
  "cells": [
    {
      "cell_type": "code",
      "source": [
        "\"\"\"from pyspark.sql import SparkSession\n",
        "spark=SparkSession.builder.appName('RDD').getOrCreate()\n",
        "data = [1, 2, 3, 4, 5]\n",
        "rdd = spark.sparkContext.parallelize(data)\n",
        "print(rdd.collect())\n",
        "rdd2=rdd.map(lambda x: x * 2)\n",
        "rdd3=rdd2.filter(lambda x: x>5)\n",
        "print(rdd3.collect())\"\"\""
      ],
      "metadata": {
        "colab": {
          "base_uri": "https://localhost:8080/"
        },
        "id": "fM0FHTE-3uFm",
        "outputId": "37b917c1-91fa-49b6-c941-f7e6ddf02bc3"
      },
      "execution_count": 13,
      "outputs": [
        {
          "output_type": "stream",
          "name": "stdout",
          "text": [
            "[1, 2, 3, 4, 5]\n",
            "[6, 8, 10]\n"
          ]
        }
      ]
    },
    {
      "cell_type": "markdown",
      "source": [
        "#Mini Project: Sales Data Analysis"
      ],
      "metadata": {
        "id": "rZbxQrKT6rGM"
      }
    },
    {
      "cell_type": "code",
      "source": [
        "from pyspark.sql import SparkSession\n",
        "spark=SparkSession.builder.appName('sales').getOrCreate()\n",
        "data=[\n",
        "    (\"Shirt\", 2, 500),\n",
        "    (\"Shoes\", 1, 1200),\n",
        "    (\"Shirt\", 1, 500),\n",
        "    (\"Jeans\", 2, 1500),\n",
        "    (\"Shoes\", 3, 1200),\n",
        "]\n",
        "rdd=spark.sparkContext.parallelize(data)\n",
        "print(rdd.collect())\n",
        "#Calculate Revenue per Record\n",
        "rdd_revenue=rdd.map(lambda x: (x[0],x[1] * x[2]))\n",
        "#Total Revenue per Product\n",
        "rdd_total=rdd_revenue.reduceByKey(lambda a,b: a+b)\n",
        "print(rdd_total.collect())\n",
        "#Find Top Product by Revenue\n",
        "top_product=rdd_total.takeOrdered(1, key=lambda x: -x[1])\n",
        "print(top_product)\n",
        "\n"
      ],
      "metadata": {
        "colab": {
          "base_uri": "https://localhost:8080/"
        },
        "id": "HczJfLG66vNe",
        "outputId": "07e024ae-8920-4ec3-914c-45528a3a72d5"
      },
      "execution_count": 16,
      "outputs": [
        {
          "output_type": "stream",
          "name": "stdout",
          "text": [
            "[('Shirt', 2, 500), ('Shoes', 1, 1200), ('Shirt', 1, 500), ('Jeans', 2, 1500), ('Shoes', 3, 1200)]\n",
            "[('Shirt', 1500), ('Shoes', 4800), ('Jeans', 3000)]\n",
            "[('Shoes', 4800)]\n"
          ]
        }
      ]
    }
  ]
}