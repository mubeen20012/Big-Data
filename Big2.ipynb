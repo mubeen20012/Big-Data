{
  "nbformat": 4,
  "nbformat_minor": 0,
  "metadata": {
    "colab": {
      "provenance": []
    },
    "kernelspec": {
      "name": "python3",
      "display_name": "Python 3"
    },
    "language_info": {
      "name": "python"
    }
  },
  "cells": [
    {
      "cell_type": "code",
      "execution_count": 3,
      "metadata": {
        "id": "wFf5HWg13ms7"
      },
      "outputs": [],
      "source": [
        "from pyspark.sql import SparkSession\n",
        "from pyspark.sql import functions as F"
      ]
    },
    {
      "cell_type": "code",
      "source": [
        "spark=SparkSession.builder.appName('Day2').getOrCreate()"
      ],
      "metadata": {
        "id": "8Uq9bkPM33Ss"
      },
      "execution_count": 5,
      "outputs": []
    },
    {
      "cell_type": "code",
      "source": [
        "data = [\n",
        "    (\"Alice\", \"HR\", 3000),\n",
        "    (\"Bob\", \"IT\", 4500),\n",
        "    (\"Charlie\", \"IT\", 5000),\n",
        "    (\"David\", \"HR\", 4000),\n",
        "    (\"Eva\", \"Finance\", 6000)\n",
        "]\n",
        "df=spark.createDataFrame(data,['name','dept','salary'])\n",
        "df.show()"
      ],
      "metadata": {
        "colab": {
          "base_uri": "https://localhost:8080/"
        },
        "id": "rGCrwO-D4dbZ",
        "outputId": "bd2890e7-1daa-4758-e08a-871968c287fd"
      },
      "execution_count": 6,
      "outputs": [
        {
          "output_type": "stream",
          "name": "stdout",
          "text": [
            "+-------+-------+------+\n",
            "|   name|   dept|salary|\n",
            "+-------+-------+------+\n",
            "|  Alice|     HR|  3000|\n",
            "|    Bob|     IT|  4500|\n",
            "|Charlie|     IT|  5000|\n",
            "|  David|     HR|  4000|\n",
            "|    Eva|Finance|  6000|\n",
            "+-------+-------+------+\n",
            "\n"
          ]
        }
      ]
    },
    {
      "cell_type": "code",
      "source": [
        "df.select('name','salary').show()"
      ],
      "metadata": {
        "colab": {
          "base_uri": "https://localhost:8080/"
        },
        "id": "rX-Qrvwa40gE",
        "outputId": "0abe8b42-8f7a-4f5c-cba3-7af15729bc03"
      },
      "execution_count": 7,
      "outputs": [
        {
          "output_type": "stream",
          "name": "stdout",
          "text": [
            "+-------+------+\n",
            "|   name|salary|\n",
            "+-------+------+\n",
            "|  Alice|  3000|\n",
            "|    Bob|  4500|\n",
            "|Charlie|  5000|\n",
            "|  David|  4000|\n",
            "|    Eva|  6000|\n",
            "+-------+------+\n",
            "\n"
          ]
        }
      ]
    },
    {
      "cell_type": "code",
      "source": [
        "df.filter(df['salary']>3000).show()"
      ],
      "metadata": {
        "colab": {
          "base_uri": "https://localhost:8080/"
        },
        "id": "AAcwy3bW49yx",
        "outputId": "8b743d77-c633-4be0-ecaf-cb7ef6ec27dd"
      },
      "execution_count": 8,
      "outputs": [
        {
          "output_type": "stream",
          "name": "stdout",
          "text": [
            "+-------+-------+------+\n",
            "|   name|   dept|salary|\n",
            "+-------+-------+------+\n",
            "|    Bob|     IT|  4500|\n",
            "|Charlie|     IT|  5000|\n",
            "|  David|     HR|  4000|\n",
            "|    Eva|Finance|  6000|\n",
            "+-------+-------+------+\n",
            "\n"
          ]
        }
      ]
    },
    {
      "cell_type": "code",
      "source": [
        "df.filter((df['dept']=='HR') & (df['salary']<4000)).show()"
      ],
      "metadata": {
        "colab": {
          "base_uri": "https://localhost:8080/"
        },
        "id": "tG_rpAxo5GtU",
        "outputId": "910bcde7-c5f5-4832-f38f-82f026f89338"
      },
      "execution_count": 10,
      "outputs": [
        {
          "output_type": "stream",
          "name": "stdout",
          "text": [
            "+-----+----+------+\n",
            "| name|dept|salary|\n",
            "+-----+----+------+\n",
            "|Alice|  HR|  3000|\n",
            "+-----+----+------+\n",
            "\n"
          ]
        }
      ]
    },
    {
      "cell_type": "code",
      "source": [
        "print(df.count())"
      ],
      "metadata": {
        "colab": {
          "base_uri": "https://localhost:8080/"
        },
        "id": "zph01onw5bDa",
        "outputId": "ac32de2c-d442-47e7-efbc-4dad2963d295"
      },
      "execution_count": 12,
      "outputs": [
        {
          "output_type": "stream",
          "name": "stdout",
          "text": [
            "5\n"
          ]
        }
      ]
    },
    {
      "cell_type": "code",
      "source": [
        "print(f\"HR Department: {df.filter(df['dept']=='HR').count()}\")"
      ],
      "metadata": {
        "colab": {
          "base_uri": "https://localhost:8080/"
        },
        "id": "0w467pLV5zX_",
        "outputId": "036a6bc0-d1d5-4ee7-ad93-05a430faf96d"
      },
      "execution_count": 13,
      "outputs": [
        {
          "output_type": "stream",
          "name": "stdout",
          "text": [
            "HR Department: 2\n"
          ]
        }
      ]
    },
    {
      "cell_type": "code",
      "source": [
        "df.groupBy('dept').agg({'salary':'avg'}).show()"
      ],
      "metadata": {
        "colab": {
          "base_uri": "https://localhost:8080/"
        },
        "id": "oN2RpmF66SOF",
        "outputId": "bef796a1-09a2-412e-f388-a79c52735108"
      },
      "execution_count": 14,
      "outputs": [
        {
          "output_type": "stream",
          "name": "stdout",
          "text": [
            "+-------+-----------+\n",
            "|   dept|avg(salary)|\n",
            "+-------+-----------+\n",
            "|     HR|     3500.0|\n",
            "|     IT|     4750.0|\n",
            "|Finance|     6000.0|\n",
            "+-------+-----------+\n",
            "\n"
          ]
        }
      ]
    },
    {
      "cell_type": "code",
      "source": [
        "df.filter(df['salary']>4000).show()"
      ],
      "metadata": {
        "colab": {
          "base_uri": "https://localhost:8080/"
        },
        "id": "pLTDBDA07Mhg",
        "outputId": "1820f842-9948-475d-960c-dcef3f58a17d"
      },
      "execution_count": 16,
      "outputs": [
        {
          "output_type": "stream",
          "name": "stdout",
          "text": [
            "+-------+-------+------+\n",
            "|   name|   dept|salary|\n",
            "+-------+-------+------+\n",
            "|    Bob|     IT|  4500|\n",
            "|Charlie|     IT|  5000|\n",
            "|    Eva|Finance|  6000|\n",
            "+-------+-------+------+\n",
            "\n"
          ]
        }
      ]
    },
    {
      "cell_type": "code",
      "source": [
        "df.groupBy('dept').agg({'salary':'avg'}).show()"
      ],
      "metadata": {
        "colab": {
          "base_uri": "https://localhost:8080/"
        },
        "id": "OW-tuBQH7UiA",
        "outputId": "61171a87-4eca-4121-d7f2-edee68f22c8a"
      },
      "execution_count": 17,
      "outputs": [
        {
          "output_type": "stream",
          "name": "stdout",
          "text": [
            "+-------+-----------+\n",
            "|   dept|avg(salary)|\n",
            "+-------+-----------+\n",
            "|     HR|     3500.0|\n",
            "|     IT|     4750.0|\n",
            "|Finance|     6000.0|\n",
            "+-------+-----------+\n",
            "\n"
          ]
        }
      ]
    }
  ]
}